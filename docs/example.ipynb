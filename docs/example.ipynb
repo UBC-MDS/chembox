{
 "cells": [
  {
   "cell_type": "markdown",
   "metadata": {},
   "source": [
    "# `chembox` usage\n",
    "\n",
    "To use `chembox` in a project, import all `chembox` libraries:"
   ]
  },
  {
   "cell_type": "code",
   "execution_count": 1,
   "metadata": {},
   "outputs": [],
   "source": [
    "from chembox import *\n"
   ]
  },
  {
   "attachments": {},
   "cell_type": "markdown",
   "metadata": {},
   "source": [
    "# `get_elements` function\n",
    "\n",
    "The first step into calculating any chemical formulas is to get all fundamental chemistry elements. The `get_elements` function extracts all fundamental elements from an input chemistry molecule and results in a dictionary of the composed elements and their counts."
   ]
  },
  {
   "cell_type": "code",
   "execution_count": 2,
   "metadata": {},
   "outputs": [
    {
     "data": {
      "text/plain": [
       "{'H': 20, 'C': 10}"
      ]
     },
     "execution_count": 2,
     "metadata": {},
     "output_type": "execute_result"
    }
   ],
   "source": [
    "# One substance combination\n",
    "get_elements('(C2H4)5')"
   ]
  },
  {
   "cell_type": "code",
   "execution_count": 3,
   "metadata": {},
   "outputs": [
    {
     "data": {
      "text/plain": [
       "{'O': 12, 'S': 3, 'Al': 2}"
      ]
     },
     "execution_count": 3,
     "metadata": {},
     "output_type": "execute_result"
    }
   ],
   "source": [
    "# Two substance combination\n",
    "get_elements('Al2(SO4)3')"
   ]
  },
  {
   "cell_type": "code",
   "execution_count": 4,
   "metadata": {},
   "outputs": [
    {
     "data": {
      "text/plain": [
       "{'H': 2, 'Li': 1}"
      ]
     },
     "execution_count": 4,
     "metadata": {},
     "output_type": "execute_result"
    }
   ],
   "source": [
    "# Multiple of single substances\n",
    "get_elements('LiH2')"
   ]
  },
  {
   "cell_type": "markdown",
   "metadata": {
    "tags": []
   },
   "source": [
    "# `is_valid` function\n",
    "\n",
    "`is_valid` function checks whether the given chemistry molecule is chemically valid based on periodic table."
   ]
  },
  {
   "cell_type": "code",
   "execution_count": 5,
   "metadata": {},
   "outputs": [
    {
     "data": {
      "text/plain": [
       "True"
      ]
     },
     "execution_count": 5,
     "metadata": {},
     "output_type": "execute_result"
    }
   ],
   "source": [
    "# Calcium carbonate (a common salt)\n",
    "is_valid('Al2(SO4)3')"
   ]
  },
  {
   "cell_type": "code",
   "execution_count": 6,
   "metadata": {},
   "outputs": [
    {
     "data": {
      "text/plain": [
       "True"
      ]
     },
     "execution_count": 6,
     "metadata": {},
     "output_type": "execute_result"
    }
   ],
   "source": [
    "# Sodium hydroxide (a common base)\n",
    "is_valid('NaOH')"
   ]
  },
  {
   "cell_type": "code",
   "execution_count": 7,
   "metadata": {},
   "outputs": [
    {
     "data": {
      "text/plain": [
       "True"
      ]
     },
     "execution_count": 7,
     "metadata": {},
     "output_type": "execute_result"
    }
   ],
   "source": [
    "# Carbonic acid (a common acid)\n",
    "is_valid('H2CO3')"
   ]
  },
  {
   "cell_type": "markdown",
   "metadata": {},
   "source": [
    "# `get_molec_props` function\n",
    "\n",
    "`get_molec_props` function returns a dataframe with various atomic properties of each element in the molecule"
   ]
  },
  {
   "cell_type": "code",
   "execution_count": 8,
   "metadata": {},
   "outputs": [
    {
     "data": {
      "text/html": [
       "<div>\n",
       "<style scoped>\n",
       "    .dataframe tbody tr th:only-of-type {\n",
       "        vertical-align: middle;\n",
       "    }\n",
       "\n",
       "    .dataframe tbody tr th {\n",
       "        vertical-align: top;\n",
       "    }\n",
       "\n",
       "    .dataframe thead th {\n",
       "        text-align: right;\n",
       "    }\n",
       "</style>\n",
       "<table border=\"1\" class=\"dataframe\">\n",
       "  <thead>\n",
       "    <tr style=\"text-align: right;\">\n",
       "      <th></th>\n",
       "      <th>Symbol</th>\n",
       "      <th>Name</th>\n",
       "      <th>AtomicNumber</th>\n",
       "      <th>AtomicMass</th>\n",
       "      <th>Density(g/cm3)</th>\n",
       "      <th>AtomicRadius(pm)</th>\n",
       "      <th>Config</th>\n",
       "      <th>ShellConfig</th>\n",
       "      <th>OxiStates</th>\n",
       "    </tr>\n",
       "  </thead>\n",
       "  <tbody>\n",
       "    <tr>\n",
       "      <th>0</th>\n",
       "      <td>H</td>\n",
       "      <td>Hydrogen</td>\n",
       "      <td>1</td>\n",
       "      <td>1.008000</td>\n",
       "      <td>0.000090</td>\n",
       "      <td>53.0</td>\n",
       "      <td>1s1</td>\n",
       "      <td>1,,,,,,</td>\n",
       "      <td>1</td>\n",
       "    </tr>\n",
       "    <tr>\n",
       "      <th>1</th>\n",
       "      <td>O</td>\n",
       "      <td>Oxygen</td>\n",
       "      <td>8</td>\n",
       "      <td>15.999000</td>\n",
       "      <td>0.001429</td>\n",
       "      <td>48.0</td>\n",
       "      <td>[He] 2s2 2p4</td>\n",
       "      <td>2,6,,,,,</td>\n",
       "      <td>-2</td>\n",
       "    </tr>\n",
       "    <tr>\n",
       "      <th>2</th>\n",
       "      <td>Na</td>\n",
       "      <td>Sodium</td>\n",
       "      <td>11</td>\n",
       "      <td>22.989769</td>\n",
       "      <td>0.971000</td>\n",
       "      <td>190.0</td>\n",
       "      <td>[Ne] 3s1</td>\n",
       "      <td>2,8,1,,,,</td>\n",
       "      <td>1</td>\n",
       "    </tr>\n",
       "  </tbody>\n",
       "</table>\n",
       "</div>"
      ],
      "text/plain": [
       "  Symbol      Name  AtomicNumber  AtomicMass  Density(g/cm3)  \\\n",
       "0      H  Hydrogen             1    1.008000        0.000090   \n",
       "1      O    Oxygen             8   15.999000        0.001429   \n",
       "2     Na    Sodium            11   22.989769        0.971000   \n",
       "\n",
       "   AtomicRadius(pm)        Config ShellConfig OxiStates  \n",
       "0              53.0           1s1     1,,,,,,         1  \n",
       "1              48.0  [He] 2s2 2p4    2,6,,,,,        -2  \n",
       "2             190.0      [Ne] 3s1   2,8,1,,,,         1  "
      ]
     },
     "execution_count": 8,
     "metadata": {},
     "output_type": "execute_result"
    }
   ],
   "source": [
    "get_molec_props('NaOH')"
   ]
  },
  {
   "cell_type": "code",
   "execution_count": 9,
   "metadata": {},
   "outputs": [
    {
     "data": {
      "text/html": [
       "<div>\n",
       "<style scoped>\n",
       "    .dataframe tbody tr th:only-of-type {\n",
       "        vertical-align: middle;\n",
       "    }\n",
       "\n",
       "    .dataframe tbody tr th {\n",
       "        vertical-align: top;\n",
       "    }\n",
       "\n",
       "    .dataframe thead th {\n",
       "        text-align: right;\n",
       "    }\n",
       "</style>\n",
       "<table border=\"1\" class=\"dataframe\">\n",
       "  <thead>\n",
       "    <tr style=\"text-align: right;\">\n",
       "      <th></th>\n",
       "      <th>Symbol</th>\n",
       "      <th>Name</th>\n",
       "      <th>AtomicNumber</th>\n",
       "      <th>AtomicMass</th>\n",
       "      <th>Density(g/cm3)</th>\n",
       "      <th>AtomicRadius(pm)</th>\n",
       "      <th>Config</th>\n",
       "      <th>ShellConfig</th>\n",
       "      <th>OxiStates</th>\n",
       "    </tr>\n",
       "  </thead>\n",
       "  <tbody>\n",
       "    <tr>\n",
       "      <th>0</th>\n",
       "      <td>Ca</td>\n",
       "      <td>Calcium</td>\n",
       "      <td>20</td>\n",
       "      <td>40.078</td>\n",
       "      <td>1.540000</td>\n",
       "      <td>194.0</td>\n",
       "      <td>[Ar] 4s2</td>\n",
       "      <td>2,8,8,2,,,</td>\n",
       "      <td>2</td>\n",
       "    </tr>\n",
       "    <tr>\n",
       "      <th>1</th>\n",
       "      <td>Cl</td>\n",
       "      <td>Chlorine</td>\n",
       "      <td>17</td>\n",
       "      <td>35.450</td>\n",
       "      <td>0.003214</td>\n",
       "      <td>79.0</td>\n",
       "      <td>[Ne] 3s2 3p5</td>\n",
       "      <td>2,8,7,,,,</td>\n",
       "      <td>-1,1,3,5,7</td>\n",
       "    </tr>\n",
       "  </tbody>\n",
       "</table>\n",
       "</div>"
      ],
      "text/plain": [
       "  Symbol      Name  AtomicNumber  AtomicMass  Density(g/cm3)  \\\n",
       "0     Ca   Calcium            20      40.078        1.540000   \n",
       "1     Cl  Chlorine            17      35.450        0.003214   \n",
       "\n",
       "   AtomicRadius(pm)        Config ShellConfig   OxiStates  \n",
       "0             194.0      [Ar] 4s2  2,8,8,2,,,           2  \n",
       "1              79.0  [Ne] 3s2 3p5   2,8,7,,,,  -1,1,3,5,7  "
      ]
     },
     "execution_count": 9,
     "metadata": {},
     "output_type": "execute_result"
    }
   ],
   "source": [
    "get_molec_props('CaCl3')"
   ]
  },
  {
   "cell_type": "code",
   "execution_count": 10,
   "metadata": {},
   "outputs": [
    {
     "data": {
      "text/html": [
       "<div>\n",
       "<style scoped>\n",
       "    .dataframe tbody tr th:only-of-type {\n",
       "        vertical-align: middle;\n",
       "    }\n",
       "\n",
       "    .dataframe tbody tr th {\n",
       "        vertical-align: top;\n",
       "    }\n",
       "\n",
       "    .dataframe thead th {\n",
       "        text-align: right;\n",
       "    }\n",
       "</style>\n",
       "<table border=\"1\" class=\"dataframe\">\n",
       "  <thead>\n",
       "    <tr style=\"text-align: right;\">\n",
       "      <th></th>\n",
       "      <th>Symbol</th>\n",
       "      <th>Name</th>\n",
       "      <th>AtomicNumber</th>\n",
       "      <th>AtomicMass</th>\n",
       "      <th>Density(g/cm3)</th>\n",
       "      <th>AtomicRadius(pm)</th>\n",
       "      <th>Config</th>\n",
       "      <th>ShellConfig</th>\n",
       "      <th>OxiStates</th>\n",
       "    </tr>\n",
       "  </thead>\n",
       "  <tbody>\n",
       "    <tr>\n",
       "      <th>0</th>\n",
       "      <td>Al</td>\n",
       "      <td>Aluminium</td>\n",
       "      <td>13</td>\n",
       "      <td>26.981538</td>\n",
       "      <td>2.698000</td>\n",
       "      <td>118.0</td>\n",
       "      <td>[Ne] 3s2 3p1</td>\n",
       "      <td>2,8,3,,,,</td>\n",
       "      <td>3</td>\n",
       "    </tr>\n",
       "    <tr>\n",
       "      <th>1</th>\n",
       "      <td>C</td>\n",
       "      <td>Carbon</td>\n",
       "      <td>6</td>\n",
       "      <td>12.011000</td>\n",
       "      <td>2.267000</td>\n",
       "      <td>67.0</td>\n",
       "      <td>[He] 2s2 2p2</td>\n",
       "      <td>2,4,,,,,</td>\n",
       "      <td>-4,-3,-2,-1,0,1,2,3,4</td>\n",
       "    </tr>\n",
       "    <tr>\n",
       "      <th>2</th>\n",
       "      <td>H</td>\n",
       "      <td>Hydrogen</td>\n",
       "      <td>1</td>\n",
       "      <td>1.008000</td>\n",
       "      <td>0.000090</td>\n",
       "      <td>53.0</td>\n",
       "      <td>1s1</td>\n",
       "      <td>1,,,,,,</td>\n",
       "      <td>1</td>\n",
       "    </tr>\n",
       "    <tr>\n",
       "      <th>3</th>\n",
       "      <td>O</td>\n",
       "      <td>Oxygen</td>\n",
       "      <td>8</td>\n",
       "      <td>15.999000</td>\n",
       "      <td>0.001429</td>\n",
       "      <td>48.0</td>\n",
       "      <td>[He] 2s2 2p4</td>\n",
       "      <td>2,6,,,,,</td>\n",
       "      <td>-2</td>\n",
       "    </tr>\n",
       "    <tr>\n",
       "      <th>4</th>\n",
       "      <td>S</td>\n",
       "      <td>Sulfur</td>\n",
       "      <td>16</td>\n",
       "      <td>32.060000</td>\n",
       "      <td>2.067000</td>\n",
       "      <td>88.0</td>\n",
       "      <td>[Ne] 3s2 3p4</td>\n",
       "      <td>2,8,6,,,,</td>\n",
       "      <td>-2,2,4,6</td>\n",
       "    </tr>\n",
       "  </tbody>\n",
       "</table>\n",
       "</div>"
      ],
      "text/plain": [
       "  Symbol       Name  AtomicNumber  AtomicMass  Density(g/cm3)  \\\n",
       "0     Al  Aluminium            13   26.981538        2.698000   \n",
       "1      C     Carbon             6   12.011000        2.267000   \n",
       "2      H   Hydrogen             1    1.008000        0.000090   \n",
       "3      O     Oxygen             8   15.999000        0.001429   \n",
       "4      S     Sulfur            16   32.060000        2.067000   \n",
       "\n",
       "   AtomicRadius(pm)        Config ShellConfig              OxiStates  \n",
       "0             118.0  [Ne] 3s2 3p1   2,8,3,,,,                      3  \n",
       "1              67.0  [He] 2s2 2p2    2,4,,,,,  -4,-3,-2,-1,0,1,2,3,4  \n",
       "2              53.0           1s1     1,,,,,,                      1  \n",
       "3              48.0  [He] 2s2 2p4    2,6,,,,,                     -2  \n",
       "4              88.0  [Ne] 3s2 3p4   2,8,6,,,,               -2,2,4,6  "
      ]
     },
     "execution_count": 10,
     "metadata": {},
     "output_type": "execute_result"
    }
   ],
   "source": [
    "get_molec_props('Al2(SO4)3(C2H4)5')"
   ]
  },
  {
   "cell_type": "markdown",
   "metadata": {},
   "source": [
    "# `get_combustion_equation` function\n",
    "\n",
    "`get_combustion_equation` function returns a dataframe with a balanced combustion equation for the given molecule."
   ]
  },
  {
   "cell_type": "code",
   "execution_count": 11,
   "metadata": {},
   "outputs": [
    {
     "name": "stdout",
     "output_type": "stream",
     "text": [
      "{'H': 4, 'C': 2}\n",
      "3.0 2 4\n"
     ]
    },
    {
     "data": {
      "text/html": [
       "<div>\n",
       "<style scoped>\n",
       "    .dataframe tbody tr th:only-of-type {\n",
       "        vertical-align: middle;\n",
       "    }\n",
       "\n",
       "    .dataframe tbody tr th {\n",
       "        vertical-align: top;\n",
       "    }\n",
       "\n",
       "    .dataframe thead th {\n",
       "        text-align: right;\n",
       "    }\n",
       "</style>\n",
       "<table border=\"1\" class=\"dataframe\">\n",
       "  <thead>\n",
       "    <tr style=\"text-align: right;\">\n",
       "      <th></th>\n",
       "      <th>C2H4</th>\n",
       "      <th>O2</th>\n",
       "      <th>CO2</th>\n",
       "      <th>H2O</th>\n",
       "    </tr>\n",
       "  </thead>\n",
       "  <tbody>\n",
       "    <tr>\n",
       "      <th>0</th>\n",
       "      <td>1</td>\n",
       "      <td>3</td>\n",
       "      <td>2</td>\n",
       "      <td>2</td>\n",
       "    </tr>\n",
       "  </tbody>\n",
       "</table>\n",
       "</div>"
      ],
      "text/plain": [
       "   C2H4  O2  CO2  H2O\n",
       "0     1   3    2    2"
      ]
     },
     "execution_count": 11,
     "metadata": {},
     "output_type": "execute_result"
    }
   ],
   "source": [
    "get_combustion_equation('C2H4')"
   ]
  },
  {
   "cell_type": "code",
   "execution_count": 12,
   "metadata": {},
   "outputs": [
    {
     "name": "stdout",
     "output_type": "stream",
     "text": [
      "{'H': 6, 'C': 4}\n",
      "5.5 4 6\n",
      "11.0 8 6.0\n"
     ]
    },
    {
     "data": {
      "text/html": [
       "<div>\n",
       "<style scoped>\n",
       "    .dataframe tbody tr th:only-of-type {\n",
       "        vertical-align: middle;\n",
       "    }\n",
       "\n",
       "    .dataframe tbody tr th {\n",
       "        vertical-align: top;\n",
       "    }\n",
       "\n",
       "    .dataframe thead th {\n",
       "        text-align: right;\n",
       "    }\n",
       "</style>\n",
       "<table border=\"1\" class=\"dataframe\">\n",
       "  <thead>\n",
       "    <tr style=\"text-align: right;\">\n",
       "      <th></th>\n",
       "      <th>C4H6</th>\n",
       "      <th>O2</th>\n",
       "      <th>CO2</th>\n",
       "      <th>H2O</th>\n",
       "    </tr>\n",
       "  </thead>\n",
       "  <tbody>\n",
       "    <tr>\n",
       "      <th>0</th>\n",
       "      <td>2</td>\n",
       "      <td>11</td>\n",
       "      <td>8</td>\n",
       "      <td>6</td>\n",
       "    </tr>\n",
       "  </tbody>\n",
       "</table>\n",
       "</div>"
      ],
      "text/plain": [
       "   C4H6  O2  CO2  H2O\n",
       "0     2  11    8    6"
      ]
     },
     "execution_count": 12,
     "metadata": {},
     "output_type": "execute_result"
    }
   ],
   "source": [
    "get_combustion_equation('C4H6')"
   ]
  },
  {
   "cell_type": "code",
   "execution_count": 13,
   "metadata": {},
   "outputs": [
    {
     "name": "stdout",
     "output_type": "stream",
     "text": [
      "{'H': 12, 'C': 5}\n",
      "8.0 5 12\n"
     ]
    },
    {
     "data": {
      "text/html": [
       "<div>\n",
       "<style scoped>\n",
       "    .dataframe tbody tr th:only-of-type {\n",
       "        vertical-align: middle;\n",
       "    }\n",
       "\n",
       "    .dataframe tbody tr th {\n",
       "        vertical-align: top;\n",
       "    }\n",
       "\n",
       "    .dataframe thead th {\n",
       "        text-align: right;\n",
       "    }\n",
       "</style>\n",
       "<table border=\"1\" class=\"dataframe\">\n",
       "  <thead>\n",
       "    <tr style=\"text-align: right;\">\n",
       "      <th></th>\n",
       "      <th>C5H12</th>\n",
       "      <th>O2</th>\n",
       "      <th>CO2</th>\n",
       "      <th>H2O</th>\n",
       "    </tr>\n",
       "  </thead>\n",
       "  <tbody>\n",
       "    <tr>\n",
       "      <th>0</th>\n",
       "      <td>1</td>\n",
       "      <td>8</td>\n",
       "      <td>5</td>\n",
       "      <td>6</td>\n",
       "    </tr>\n",
       "  </tbody>\n",
       "</table>\n",
       "</div>"
      ],
      "text/plain": [
       "   C5H12  O2  CO2  H2O\n",
       "0      1   8    5    6"
      ]
     },
     "execution_count": 13,
     "metadata": {},
     "output_type": "execute_result"
    }
   ],
   "source": [
    "get_combustion_equation('C5H12')"
   ]
  }
 ],
 "metadata": {
  "kernelspec": {
   "display_name": "MDS",
   "language": "python",
   "name": "python3"
  },
  "language_info": {
   "codemirror_mode": {
    "name": "ipython",
    "version": 3
   },
   "file_extension": ".py",
   "mimetype": "text/x-python",
   "name": "python",
   "nbconvert_exporter": "python",
   "pygments_lexer": "ipython3",
   "version": "3.10.8"
  },
  "vscode": {
   "interpreter": {
    "hash": "fb3255e8c177a1137413fe9062f3de4b862da5af4fbc98ca150dccf9d8cb90c8"
   }
  }
 },
 "nbformat": 4,
 "nbformat_minor": 4
}
